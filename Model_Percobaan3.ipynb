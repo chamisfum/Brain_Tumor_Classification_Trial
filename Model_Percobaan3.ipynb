{
  "nbformat": 4,
  "nbformat_minor": 0,
  "metadata": {
    "colab": {
      "name": "Model_Percobaan2.ipynb",
      "provenance": [],
      "collapsed_sections": [],
      "include_colab_link": true
    },
    "kernelspec": {
      "name": "python3",
      "display_name": "Python 3"
    },
    "accelerator": "GPU"
  },
  "cells": [
    {
      "cell_type": "markdown",
      "metadata": {
        "id": "view-in-github",
        "colab_type": "text"
      },
      "source": [
        "<a href=\"https://colab.research.google.com/github/chamisfum/Brain_Tumor_Classification_Trial/blob/master/Model_Percobaan3.ipynb\" target=\"_parent\"><img src=\"https://colab.research.google.com/assets/colab-badge.svg\" alt=\"Open In Colab\"/></a>"
      ]
    },
    {
      "cell_type": "code",
      "metadata": {
        "id": "2eFyZfKUWeRV",
        "colab_type": "code",
        "colab": {}
      },
      "source": [
        "import numpy as np\n",
        "import os\n",
        "import shutil\n",
        "from tqdm import tqdm\n",
        "import cv2\n",
        "import matplotlib.pyplot as plt\n",
        "\n",
        "%matplotlib inline"
      ],
      "execution_count": 8,
      "outputs": []
    },
    {
      "cell_type": "code",
      "metadata": {
        "id": "CDRPnTxmp9IA",
        "colab_type": "code",
        "colab": {}
      },
      "source": [
        "os.environ['CONFIG_DIR'] = \"/content/drive/My Drive/RESEARCH CENTER/DATASETS/BRAIN_TUMOR/dataset\""
      ],
      "execution_count": 9,
      "outputs": []
    },
    {
      "cell_type": "code",
      "metadata": {
        "id": "seD7r350q7Zl",
        "colab_type": "code",
        "colab": {
          "base_uri": "https://localhost:8080/",
          "height": 34
        },
        "outputId": "2017b005-0f47-494b-f638-8f0d5c9c8055"
      },
      "source": [
        "%cd /content/drive/My Drive/RESEARCH CENTER/DATASETS/BRAIN_TUMOR/dataset"
      ],
      "execution_count": 10,
      "outputs": [
        {
          "output_type": "stream",
          "text": [
            "/content/drive/My Drive/RESEARCH CENTER/DATASETS/BRAIN_TUMOR/dataset\n"
          ],
          "name": "stdout"
        }
      ]
    },
    {
      "cell_type": "code",
      "metadata": {
        "id": "MEkONgTjN0d2",
        "colab_type": "code",
        "colab": {
          "base_uri": "https://localhost:8080/",
          "height": 50
        },
        "outputId": "ef8ce62c-38f7-4ef9-9e64-09793d32059d"
      },
      "source": [
        "ls"
      ],
      "execution_count": 11,
      "outputs": [
        {
          "output_type": "stream",
          "text": [
            "\u001b[0m\u001b[01;34mAUGMENTATION\u001b[0m/  \u001b[01;34mdraft\u001b[0m/      \u001b[01;34mpercobaan\u001b[0m/  \u001b[01;34msave_model\u001b[0m/\n",
            "\u001b[01;34mBALANCE\u001b[0m/       \u001b[01;34mIMBALANCE\u001b[0m/  readme.txt  \u001b[01;34mSPLIT_AUGMENTATION\u001b[0m/\n"
          ],
          "name": "stdout"
        }
      ]
    },
    {
      "cell_type": "code",
      "metadata": {
        "id": "YMyXtS9hN6wU",
        "colab_type": "code",
        "colab": {
          "base_uri": "https://localhost:8080/",
          "height": 34
        },
        "outputId": "984c182d-41db-4fdf-fe96-eee429de6729"
      },
      "source": [
        "ls percobaan"
      ],
      "execution_count": 12,
      "outputs": [
        {
          "output_type": "stream",
          "text": [
            "percobaan1.png  percobaan2.png  percobaan3.png  \u001b[0m\u001b[01;34mtest\u001b[0m/  \u001b[01;34mtrain\u001b[0m/  \u001b[01;34mval\u001b[0m/\n"
          ],
          "name": "stdout"
        }
      ]
    },
    {
      "cell_type": "code",
      "metadata": {
        "id": "jQw_x_QWR_NP",
        "colab_type": "code",
        "colab": {}
      },
      "source": [
        "import tensorflow as tf\n",
        "from tensorflow.keras import applications\n",
        "from tensorflow.keras.models import Sequential\n",
        "from tensorflow.keras import layers\n",
        "from tensorflow.keras import callbacks\n",
        "from tensorflow.keras import optimizers"
      ],
      "execution_count": 13,
      "outputs": []
    },
    {
      "cell_type": "code",
      "metadata": {
        "id": "Kit_EVHcSSwq",
        "colab_type": "code",
        "colab": {}
      },
      "source": [
        "# model = Sequential()\n",
        "# model.add(base_model)\n",
        "# model.add(Flatten())\n",
        "# model.add(Dense(300,activation='relu',kernel_regularizer=tf.keras.regularizers.l2(0.005)))\n",
        "# model.add(Dense(3,activation='softmax'))\n",
        "# model.layers[0].trainable = False\n",
        "\n",
        "# lr_schedule = tf.keras.optimizers.schedules.ExponentialDecay(\n",
        "#     initial_learning_rate=0.01,\n",
        "#     decay_steps=500,\n",
        "#     decay_rate=0.0001)\n",
        "# opt = tf.keras.optimizers.Adamax(learning_rate=lr_schedule)\n",
        "\n",
        "# model.compile(\n",
        "#     loss='categorical_crossentropy',\n",
        "#     optimizer=opt,\n",
        "#     metrics=['accuracy']\n",
        "# )\n",
        "\n",
        "# model.summary()"
      ],
      "execution_count": null,
      "outputs": []
    },
    {
      "cell_type": "code",
      "metadata": {
        "id": "z6K0pn7fmNoC",
        "colab_type": "code",
        "colab": {}
      },
      "source": [
        "path_train = 'percobaan/train/'\n",
        "path_val = 'percobaan/val/'\n",
        "path_test = 'percobaan/test/'"
      ],
      "execution_count": 14,
      "outputs": []
    },
    {
      "cell_type": "code",
      "metadata": {
        "id": "NDIvsxOUjVzp",
        "colab_type": "code",
        "colab": {
          "base_uri": "https://localhost:8080/",
          "height": 67
        },
        "outputId": "544984d3-5c8d-4f92-ad77-863cdd5003a5"
      },
      "source": [
        "from keras.preprocessing.image import ImageDataGenerator\n",
        "\n",
        "\n",
        "datagen = ImageDataGenerator(rescale=1./255,\n",
        "                            #  rotation_range=40,\n",
        "                            #  width_shift_range=0.2,\n",
        "                            #  height_shift_range=0.2,\n",
        "                            #  shear_range=0.2,\n",
        "                            #  zoom_range=0.2,\n",
        "                            #  horizontal_flip=True,\n",
        "                             fill_mode='nearest')\n",
        "\n",
        "training_set = datagen.flow_from_directory(path_train,\n",
        "                                           target_size=(128,128),\n",
        "                                           color_mode=\"rgb\",\n",
        "                                           shuffle=False,\n",
        "                                           batch_size = 64,\n",
        "                                           class_mode='categorical')\n",
        "\n",
        "validation_set = datagen.flow_from_directory(path_val,\n",
        "                                             target_size=(128,128),\n",
        "                                             color_mode=\"rgb\",\n",
        "                                             shuffle=False,\n",
        "                                             batch_size = 64,\n",
        "                                             class_mode='categorical')\n",
        "\n",
        "testing_set = datagen.flow_from_directory(path_test,\n",
        "                                          target_size=(128,128),\n",
        "                                          color_mode=\"rgb\",\n",
        "                                          shuffle=False,\n",
        "                                          batch_size = 64,\n",
        "                                          class_mode='categorical')"
      ],
      "execution_count": 16,
      "outputs": [
        {
          "output_type": "stream",
          "text": [
            "Found 12256 images belonging to 3 classes.\n",
            "Found 2297 images belonging to 3 classes.\n",
            "Found 767 images belonging to 3 classes.\n"
          ],
          "name": "stdout"
        }
      ]
    },
    {
      "cell_type": "code",
      "metadata": {
        "id": "ArvfX-jE0tDm",
        "colab_type": "code",
        "colab": {}
      },
      "source": [
        "# Found 12256 images belonging to 3 classes.\n",
        "# Found 2297 images belonging to 3 classes.\n",
        "# Found 767 images belonging to 3 classes."
      ],
      "execution_count": 17,
      "outputs": []
    },
    {
      "cell_type": "code",
      "metadata": {
        "id": "GDsdYpoCtJdG",
        "colab_type": "code",
        "colab": {
          "base_uri": "https://localhost:8080/",
          "height": 34
        },
        "outputId": "3b84dea4-04a1-4f9e-ce69-70729cc56112"
      },
      "source": [
        "training_set.class_indices"
      ],
      "execution_count": 18,
      "outputs": [
        {
          "output_type": "execute_result",
          "data": {
            "text/plain": [
              "{'GLIOMA': 0, 'MENINGIOMA': 1, 'PITUITARY': 2}"
            ]
          },
          "metadata": {
            "tags": []
          },
          "execution_count": 18
        }
      ]
    },
    {
      "cell_type": "code",
      "metadata": {
        "id": "L11wjidpSN9K",
        "colab_type": "code",
        "colab": {
          "base_uri": "https://localhost:8080/",
          "height": 1000
        },
        "outputId": "9bf7f63f-c9a7-4698-d6bb-8da2b65f1da5"
      },
      "source": [
        "base_model = applications.MobileNetV2(include_top=False,weights='imagenet',input_shape=(128,128,3))\n",
        "base_model.summary()"
      ],
      "execution_count": null,
      "outputs": [
        {
          "output_type": "stream",
          "text": [
            "Model: \"mobilenetv2_1.00_128\"\n",
            "__________________________________________________________________________________________________\n",
            "Layer (type)                    Output Shape         Param #     Connected to                     \n",
            "==================================================================================================\n",
            "input_3 (InputLayer)            [(None, 128, 128, 3) 0                                            \n",
            "__________________________________________________________________________________________________\n",
            "Conv1_pad (ZeroPadding2D)       (None, 129, 129, 3)  0           input_3[0][0]                    \n",
            "__________________________________________________________________________________________________\n",
            "Conv1 (Conv2D)                  (None, 64, 64, 32)   864         Conv1_pad[0][0]                  \n",
            "__________________________________________________________________________________________________\n",
            "bn_Conv1 (BatchNormalization)   (None, 64, 64, 32)   128         Conv1[0][0]                      \n",
            "__________________________________________________________________________________________________\n",
            "Conv1_relu (ReLU)               (None, 64, 64, 32)   0           bn_Conv1[0][0]                   \n",
            "__________________________________________________________________________________________________\n",
            "expanded_conv_depthwise (Depthw (None, 64, 64, 32)   288         Conv1_relu[0][0]                 \n",
            "__________________________________________________________________________________________________\n",
            "expanded_conv_depthwise_BN (Bat (None, 64, 64, 32)   128         expanded_conv_depthwise[0][0]    \n",
            "__________________________________________________________________________________________________\n",
            "expanded_conv_depthwise_relu (R (None, 64, 64, 32)   0           expanded_conv_depthwise_BN[0][0] \n",
            "__________________________________________________________________________________________________\n",
            "expanded_conv_project (Conv2D)  (None, 64, 64, 16)   512         expanded_conv_depthwise_relu[0][0\n",
            "__________________________________________________________________________________________________\n",
            "expanded_conv_project_BN (Batch (None, 64, 64, 16)   64          expanded_conv_project[0][0]      \n",
            "__________________________________________________________________________________________________\n",
            "block_1_expand (Conv2D)         (None, 64, 64, 96)   1536        expanded_conv_project_BN[0][0]   \n",
            "__________________________________________________________________________________________________\n",
            "block_1_expand_BN (BatchNormali (None, 64, 64, 96)   384         block_1_expand[0][0]             \n",
            "__________________________________________________________________________________________________\n",
            "block_1_expand_relu (ReLU)      (None, 64, 64, 96)   0           block_1_expand_BN[0][0]          \n",
            "__________________________________________________________________________________________________\n",
            "block_1_pad (ZeroPadding2D)     (None, 65, 65, 96)   0           block_1_expand_relu[0][0]        \n",
            "__________________________________________________________________________________________________\n",
            "block_1_depthwise (DepthwiseCon (None, 32, 32, 96)   864         block_1_pad[0][0]                \n",
            "__________________________________________________________________________________________________\n",
            "block_1_depthwise_BN (BatchNorm (None, 32, 32, 96)   384         block_1_depthwise[0][0]          \n",
            "__________________________________________________________________________________________________\n",
            "block_1_depthwise_relu (ReLU)   (None, 32, 32, 96)   0           block_1_depthwise_BN[0][0]       \n",
            "__________________________________________________________________________________________________\n",
            "block_1_project (Conv2D)        (None, 32, 32, 24)   2304        block_1_depthwise_relu[0][0]     \n",
            "__________________________________________________________________________________________________\n",
            "block_1_project_BN (BatchNormal (None, 32, 32, 24)   96          block_1_project[0][0]            \n",
            "__________________________________________________________________________________________________\n",
            "block_2_expand (Conv2D)         (None, 32, 32, 144)  3456        block_1_project_BN[0][0]         \n",
            "__________________________________________________________________________________________________\n",
            "block_2_expand_BN (BatchNormali (None, 32, 32, 144)  576         block_2_expand[0][0]             \n",
            "__________________________________________________________________________________________________\n",
            "block_2_expand_relu (ReLU)      (None, 32, 32, 144)  0           block_2_expand_BN[0][0]          \n",
            "__________________________________________________________________________________________________\n",
            "block_2_depthwise (DepthwiseCon (None, 32, 32, 144)  1296        block_2_expand_relu[0][0]        \n",
            "__________________________________________________________________________________________________\n",
            "block_2_depthwise_BN (BatchNorm (None, 32, 32, 144)  576         block_2_depthwise[0][0]          \n",
            "__________________________________________________________________________________________________\n",
            "block_2_depthwise_relu (ReLU)   (None, 32, 32, 144)  0           block_2_depthwise_BN[0][0]       \n",
            "__________________________________________________________________________________________________\n",
            "block_2_project (Conv2D)        (None, 32, 32, 24)   3456        block_2_depthwise_relu[0][0]     \n",
            "__________________________________________________________________________________________________\n",
            "block_2_project_BN (BatchNormal (None, 32, 32, 24)   96          block_2_project[0][0]            \n",
            "__________________________________________________________________________________________________\n",
            "block_2_add (Add)               (None, 32, 32, 24)   0           block_1_project_BN[0][0]         \n",
            "                                                                 block_2_project_BN[0][0]         \n",
            "__________________________________________________________________________________________________\n",
            "block_3_expand (Conv2D)         (None, 32, 32, 144)  3456        block_2_add[0][0]                \n",
            "__________________________________________________________________________________________________\n",
            "block_3_expand_BN (BatchNormali (None, 32, 32, 144)  576         block_3_expand[0][0]             \n",
            "__________________________________________________________________________________________________\n",
            "block_3_expand_relu (ReLU)      (None, 32, 32, 144)  0           block_3_expand_BN[0][0]          \n",
            "__________________________________________________________________________________________________\n",
            "block_3_pad (ZeroPadding2D)     (None, 33, 33, 144)  0           block_3_expand_relu[0][0]        \n",
            "__________________________________________________________________________________________________\n",
            "block_3_depthwise (DepthwiseCon (None, 16, 16, 144)  1296        block_3_pad[0][0]                \n",
            "__________________________________________________________________________________________________\n",
            "block_3_depthwise_BN (BatchNorm (None, 16, 16, 144)  576         block_3_depthwise[0][0]          \n",
            "__________________________________________________________________________________________________\n",
            "block_3_depthwise_relu (ReLU)   (None, 16, 16, 144)  0           block_3_depthwise_BN[0][0]       \n",
            "__________________________________________________________________________________________________\n",
            "block_3_project (Conv2D)        (None, 16, 16, 32)   4608        block_3_depthwise_relu[0][0]     \n",
            "__________________________________________________________________________________________________\n",
            "block_3_project_BN (BatchNormal (None, 16, 16, 32)   128         block_3_project[0][0]            \n",
            "__________________________________________________________________________________________________\n",
            "block_4_expand (Conv2D)         (None, 16, 16, 192)  6144        block_3_project_BN[0][0]         \n",
            "__________________________________________________________________________________________________\n",
            "block_4_expand_BN (BatchNormali (None, 16, 16, 192)  768         block_4_expand[0][0]             \n",
            "__________________________________________________________________________________________________\n",
            "block_4_expand_relu (ReLU)      (None, 16, 16, 192)  0           block_4_expand_BN[0][0]          \n",
            "__________________________________________________________________________________________________\n",
            "block_4_depthwise (DepthwiseCon (None, 16, 16, 192)  1728        block_4_expand_relu[0][0]        \n",
            "__________________________________________________________________________________________________\n",
            "block_4_depthwise_BN (BatchNorm (None, 16, 16, 192)  768         block_4_depthwise[0][0]          \n",
            "__________________________________________________________________________________________________\n",
            "block_4_depthwise_relu (ReLU)   (None, 16, 16, 192)  0           block_4_depthwise_BN[0][0]       \n",
            "__________________________________________________________________________________________________\n",
            "block_4_project (Conv2D)        (None, 16, 16, 32)   6144        block_4_depthwise_relu[0][0]     \n",
            "__________________________________________________________________________________________________\n",
            "block_4_project_BN (BatchNormal (None, 16, 16, 32)   128         block_4_project[0][0]            \n",
            "__________________________________________________________________________________________________\n",
            "block_4_add (Add)               (None, 16, 16, 32)   0           block_3_project_BN[0][0]         \n",
            "                                                                 block_4_project_BN[0][0]         \n",
            "__________________________________________________________________________________________________\n",
            "block_5_expand (Conv2D)         (None, 16, 16, 192)  6144        block_4_add[0][0]                \n",
            "__________________________________________________________________________________________________\n",
            "block_5_expand_BN (BatchNormali (None, 16, 16, 192)  768         block_5_expand[0][0]             \n",
            "__________________________________________________________________________________________________\n",
            "block_5_expand_relu (ReLU)      (None, 16, 16, 192)  0           block_5_expand_BN[0][0]          \n",
            "__________________________________________________________________________________________________\n",
            "block_5_depthwise (DepthwiseCon (None, 16, 16, 192)  1728        block_5_expand_relu[0][0]        \n",
            "__________________________________________________________________________________________________\n",
            "block_5_depthwise_BN (BatchNorm (None, 16, 16, 192)  768         block_5_depthwise[0][0]          \n",
            "__________________________________________________________________________________________________\n",
            "block_5_depthwise_relu (ReLU)   (None, 16, 16, 192)  0           block_5_depthwise_BN[0][0]       \n",
            "__________________________________________________________________________________________________\n",
            "block_5_project (Conv2D)        (None, 16, 16, 32)   6144        block_5_depthwise_relu[0][0]     \n",
            "__________________________________________________________________________________________________\n",
            "block_5_project_BN (BatchNormal (None, 16, 16, 32)   128         block_5_project[0][0]            \n",
            "__________________________________________________________________________________________________\n",
            "block_5_add (Add)               (None, 16, 16, 32)   0           block_4_add[0][0]                \n",
            "                                                                 block_5_project_BN[0][0]         \n",
            "__________________________________________________________________________________________________\n",
            "block_6_expand (Conv2D)         (None, 16, 16, 192)  6144        block_5_add[0][0]                \n",
            "__________________________________________________________________________________________________\n",
            "block_6_expand_BN (BatchNormali (None, 16, 16, 192)  768         block_6_expand[0][0]             \n",
            "__________________________________________________________________________________________________\n",
            "block_6_expand_relu (ReLU)      (None, 16, 16, 192)  0           block_6_expand_BN[0][0]          \n",
            "__________________________________________________________________________________________________\n",
            "block_6_pad (ZeroPadding2D)     (None, 17, 17, 192)  0           block_6_expand_relu[0][0]        \n",
            "__________________________________________________________________________________________________\n",
            "block_6_depthwise (DepthwiseCon (None, 8, 8, 192)    1728        block_6_pad[0][0]                \n",
            "__________________________________________________________________________________________________\n",
            "block_6_depthwise_BN (BatchNorm (None, 8, 8, 192)    768         block_6_depthwise[0][0]          \n",
            "__________________________________________________________________________________________________\n",
            "block_6_depthwise_relu (ReLU)   (None, 8, 8, 192)    0           block_6_depthwise_BN[0][0]       \n",
            "__________________________________________________________________________________________________\n",
            "block_6_project (Conv2D)        (None, 8, 8, 64)     12288       block_6_depthwise_relu[0][0]     \n",
            "__________________________________________________________________________________________________\n",
            "block_6_project_BN (BatchNormal (None, 8, 8, 64)     256         block_6_project[0][0]            \n",
            "__________________________________________________________________________________________________\n",
            "block_7_expand (Conv2D)         (None, 8, 8, 384)    24576       block_6_project_BN[0][0]         \n",
            "__________________________________________________________________________________________________\n",
            "block_7_expand_BN (BatchNormali (None, 8, 8, 384)    1536        block_7_expand[0][0]             \n",
            "__________________________________________________________________________________________________\n",
            "block_7_expand_relu (ReLU)      (None, 8, 8, 384)    0           block_7_expand_BN[0][0]          \n",
            "__________________________________________________________________________________________________\n",
            "block_7_depthwise (DepthwiseCon (None, 8, 8, 384)    3456        block_7_expand_relu[0][0]        \n",
            "__________________________________________________________________________________________________\n",
            "block_7_depthwise_BN (BatchNorm (None, 8, 8, 384)    1536        block_7_depthwise[0][0]          \n",
            "__________________________________________________________________________________________________\n",
            "block_7_depthwise_relu (ReLU)   (None, 8, 8, 384)    0           block_7_depthwise_BN[0][0]       \n",
            "__________________________________________________________________________________________________\n",
            "block_7_project (Conv2D)        (None, 8, 8, 64)     24576       block_7_depthwise_relu[0][0]     \n",
            "__________________________________________________________________________________________________\n",
            "block_7_project_BN (BatchNormal (None, 8, 8, 64)     256         block_7_project[0][0]            \n",
            "__________________________________________________________________________________________________\n",
            "block_7_add (Add)               (None, 8, 8, 64)     0           block_6_project_BN[0][0]         \n",
            "                                                                 block_7_project_BN[0][0]         \n",
            "__________________________________________________________________________________________________\n",
            "block_8_expand (Conv2D)         (None, 8, 8, 384)    24576       block_7_add[0][0]                \n",
            "__________________________________________________________________________________________________\n",
            "block_8_expand_BN (BatchNormali (None, 8, 8, 384)    1536        block_8_expand[0][0]             \n",
            "__________________________________________________________________________________________________\n",
            "block_8_expand_relu (ReLU)      (None, 8, 8, 384)    0           block_8_expand_BN[0][0]          \n",
            "__________________________________________________________________________________________________\n",
            "block_8_depthwise (DepthwiseCon (None, 8, 8, 384)    3456        block_8_expand_relu[0][0]        \n",
            "__________________________________________________________________________________________________\n",
            "block_8_depthwise_BN (BatchNorm (None, 8, 8, 384)    1536        block_8_depthwise[0][0]          \n",
            "__________________________________________________________________________________________________\n",
            "block_8_depthwise_relu (ReLU)   (None, 8, 8, 384)    0           block_8_depthwise_BN[0][0]       \n",
            "__________________________________________________________________________________________________\n",
            "block_8_project (Conv2D)        (None, 8, 8, 64)     24576       block_8_depthwise_relu[0][0]     \n",
            "__________________________________________________________________________________________________\n",
            "block_8_project_BN (BatchNormal (None, 8, 8, 64)     256         block_8_project[0][0]            \n",
            "__________________________________________________________________________________________________\n",
            "block_8_add (Add)               (None, 8, 8, 64)     0           block_7_add[0][0]                \n",
            "                                                                 block_8_project_BN[0][0]         \n",
            "__________________________________________________________________________________________________\n",
            "block_9_expand (Conv2D)         (None, 8, 8, 384)    24576       block_8_add[0][0]                \n",
            "__________________________________________________________________________________________________\n",
            "block_9_expand_BN (BatchNormali (None, 8, 8, 384)    1536        block_9_expand[0][0]             \n",
            "__________________________________________________________________________________________________\n",
            "block_9_expand_relu (ReLU)      (None, 8, 8, 384)    0           block_9_expand_BN[0][0]          \n",
            "__________________________________________________________________________________________________\n",
            "block_9_depthwise (DepthwiseCon (None, 8, 8, 384)    3456        block_9_expand_relu[0][0]        \n",
            "__________________________________________________________________________________________________\n",
            "block_9_depthwise_BN (BatchNorm (None, 8, 8, 384)    1536        block_9_depthwise[0][0]          \n",
            "__________________________________________________________________________________________________\n",
            "block_9_depthwise_relu (ReLU)   (None, 8, 8, 384)    0           block_9_depthwise_BN[0][0]       \n",
            "__________________________________________________________________________________________________\n",
            "block_9_project (Conv2D)        (None, 8, 8, 64)     24576       block_9_depthwise_relu[0][0]     \n",
            "__________________________________________________________________________________________________\n",
            "block_9_project_BN (BatchNormal (None, 8, 8, 64)     256         block_9_project[0][0]            \n",
            "__________________________________________________________________________________________________\n",
            "block_9_add (Add)               (None, 8, 8, 64)     0           block_8_add[0][0]                \n",
            "                                                                 block_9_project_BN[0][0]         \n",
            "__________________________________________________________________________________________________\n",
            "block_10_expand (Conv2D)        (None, 8, 8, 384)    24576       block_9_add[0][0]                \n",
            "__________________________________________________________________________________________________\n",
            "block_10_expand_BN (BatchNormal (None, 8, 8, 384)    1536        block_10_expand[0][0]            \n",
            "__________________________________________________________________________________________________\n",
            "block_10_expand_relu (ReLU)     (None, 8, 8, 384)    0           block_10_expand_BN[0][0]         \n",
            "__________________________________________________________________________________________________\n",
            "block_10_depthwise (DepthwiseCo (None, 8, 8, 384)    3456        block_10_expand_relu[0][0]       \n",
            "__________________________________________________________________________________________________\n",
            "block_10_depthwise_BN (BatchNor (None, 8, 8, 384)    1536        block_10_depthwise[0][0]         \n",
            "__________________________________________________________________________________________________\n",
            "block_10_depthwise_relu (ReLU)  (None, 8, 8, 384)    0           block_10_depthwise_BN[0][0]      \n",
            "__________________________________________________________________________________________________\n",
            "block_10_project (Conv2D)       (None, 8, 8, 96)     36864       block_10_depthwise_relu[0][0]    \n",
            "__________________________________________________________________________________________________\n",
            "block_10_project_BN (BatchNorma (None, 8, 8, 96)     384         block_10_project[0][0]           \n",
            "__________________________________________________________________________________________________\n",
            "block_11_expand (Conv2D)        (None, 8, 8, 576)    55296       block_10_project_BN[0][0]        \n",
            "__________________________________________________________________________________________________\n",
            "block_11_expand_BN (BatchNormal (None, 8, 8, 576)    2304        block_11_expand[0][0]            \n",
            "__________________________________________________________________________________________________\n",
            "block_11_expand_relu (ReLU)     (None, 8, 8, 576)    0           block_11_expand_BN[0][0]         \n",
            "__________________________________________________________________________________________________\n",
            "block_11_depthwise (DepthwiseCo (None, 8, 8, 576)    5184        block_11_expand_relu[0][0]       \n",
            "__________________________________________________________________________________________________\n",
            "block_11_depthwise_BN (BatchNor (None, 8, 8, 576)    2304        block_11_depthwise[0][0]         \n",
            "__________________________________________________________________________________________________\n",
            "block_11_depthwise_relu (ReLU)  (None, 8, 8, 576)    0           block_11_depthwise_BN[0][0]      \n",
            "__________________________________________________________________________________________________\n",
            "block_11_project (Conv2D)       (None, 8, 8, 96)     55296       block_11_depthwise_relu[0][0]    \n",
            "__________________________________________________________________________________________________\n",
            "block_11_project_BN (BatchNorma (None, 8, 8, 96)     384         block_11_project[0][0]           \n",
            "__________________________________________________________________________________________________\n",
            "block_11_add (Add)              (None, 8, 8, 96)     0           block_10_project_BN[0][0]        \n",
            "                                                                 block_11_project_BN[0][0]        \n",
            "__________________________________________________________________________________________________\n",
            "block_12_expand (Conv2D)        (None, 8, 8, 576)    55296       block_11_add[0][0]               \n",
            "__________________________________________________________________________________________________\n",
            "block_12_expand_BN (BatchNormal (None, 8, 8, 576)    2304        block_12_expand[0][0]            \n",
            "__________________________________________________________________________________________________\n",
            "block_12_expand_relu (ReLU)     (None, 8, 8, 576)    0           block_12_expand_BN[0][0]         \n",
            "__________________________________________________________________________________________________\n",
            "block_12_depthwise (DepthwiseCo (None, 8, 8, 576)    5184        block_12_expand_relu[0][0]       \n",
            "__________________________________________________________________________________________________\n",
            "block_12_depthwise_BN (BatchNor (None, 8, 8, 576)    2304        block_12_depthwise[0][0]         \n",
            "__________________________________________________________________________________________________\n",
            "block_12_depthwise_relu (ReLU)  (None, 8, 8, 576)    0           block_12_depthwise_BN[0][0]      \n",
            "__________________________________________________________________________________________________\n",
            "block_12_project (Conv2D)       (None, 8, 8, 96)     55296       block_12_depthwise_relu[0][0]    \n",
            "__________________________________________________________________________________________________\n",
            "block_12_project_BN (BatchNorma (None, 8, 8, 96)     384         block_12_project[0][0]           \n",
            "__________________________________________________________________________________________________\n",
            "block_12_add (Add)              (None, 8, 8, 96)     0           block_11_add[0][0]               \n",
            "                                                                 block_12_project_BN[0][0]        \n",
            "__________________________________________________________________________________________________\n",
            "block_13_expand (Conv2D)        (None, 8, 8, 576)    55296       block_12_add[0][0]               \n",
            "__________________________________________________________________________________________________\n",
            "block_13_expand_BN (BatchNormal (None, 8, 8, 576)    2304        block_13_expand[0][0]            \n",
            "__________________________________________________________________________________________________\n",
            "block_13_expand_relu (ReLU)     (None, 8, 8, 576)    0           block_13_expand_BN[0][0]         \n",
            "__________________________________________________________________________________________________\n",
            "block_13_pad (ZeroPadding2D)    (None, 9, 9, 576)    0           block_13_expand_relu[0][0]       \n",
            "__________________________________________________________________________________________________\n",
            "block_13_depthwise (DepthwiseCo (None, 4, 4, 576)    5184        block_13_pad[0][0]               \n",
            "__________________________________________________________________________________________________\n",
            "block_13_depthwise_BN (BatchNor (None, 4, 4, 576)    2304        block_13_depthwise[0][0]         \n",
            "__________________________________________________________________________________________________\n",
            "block_13_depthwise_relu (ReLU)  (None, 4, 4, 576)    0           block_13_depthwise_BN[0][0]      \n",
            "__________________________________________________________________________________________________\n",
            "block_13_project (Conv2D)       (None, 4, 4, 160)    92160       block_13_depthwise_relu[0][0]    \n",
            "__________________________________________________________________________________________________\n",
            "block_13_project_BN (BatchNorma (None, 4, 4, 160)    640         block_13_project[0][0]           \n",
            "__________________________________________________________________________________________________\n",
            "block_14_expand (Conv2D)        (None, 4, 4, 960)    153600      block_13_project_BN[0][0]        \n",
            "__________________________________________________________________________________________________\n",
            "block_14_expand_BN (BatchNormal (None, 4, 4, 960)    3840        block_14_expand[0][0]            \n",
            "__________________________________________________________________________________________________\n",
            "block_14_expand_relu (ReLU)     (None, 4, 4, 960)    0           block_14_expand_BN[0][0]         \n",
            "__________________________________________________________________________________________________\n",
            "block_14_depthwise (DepthwiseCo (None, 4, 4, 960)    8640        block_14_expand_relu[0][0]       \n",
            "__________________________________________________________________________________________________\n",
            "block_14_depthwise_BN (BatchNor (None, 4, 4, 960)    3840        block_14_depthwise[0][0]         \n",
            "__________________________________________________________________________________________________\n",
            "block_14_depthwise_relu (ReLU)  (None, 4, 4, 960)    0           block_14_depthwise_BN[0][0]      \n",
            "__________________________________________________________________________________________________\n",
            "block_14_project (Conv2D)       (None, 4, 4, 160)    153600      block_14_depthwise_relu[0][0]    \n",
            "__________________________________________________________________________________________________\n",
            "block_14_project_BN (BatchNorma (None, 4, 4, 160)    640         block_14_project[0][0]           \n",
            "__________________________________________________________________________________________________\n",
            "block_14_add (Add)              (None, 4, 4, 160)    0           block_13_project_BN[0][0]        \n",
            "                                                                 block_14_project_BN[0][0]        \n",
            "__________________________________________________________________________________________________\n",
            "block_15_expand (Conv2D)        (None, 4, 4, 960)    153600      block_14_add[0][0]               \n",
            "__________________________________________________________________________________________________\n",
            "block_15_expand_BN (BatchNormal (None, 4, 4, 960)    3840        block_15_expand[0][0]            \n",
            "__________________________________________________________________________________________________\n",
            "block_15_expand_relu (ReLU)     (None, 4, 4, 960)    0           block_15_expand_BN[0][0]         \n",
            "__________________________________________________________________________________________________\n",
            "block_15_depthwise (DepthwiseCo (None, 4, 4, 960)    8640        block_15_expand_relu[0][0]       \n",
            "__________________________________________________________________________________________________\n",
            "block_15_depthwise_BN (BatchNor (None, 4, 4, 960)    3840        block_15_depthwise[0][0]         \n",
            "__________________________________________________________________________________________________\n",
            "block_15_depthwise_relu (ReLU)  (None, 4, 4, 960)    0           block_15_depthwise_BN[0][0]      \n",
            "__________________________________________________________________________________________________\n",
            "block_15_project (Conv2D)       (None, 4, 4, 160)    153600      block_15_depthwise_relu[0][0]    \n",
            "__________________________________________________________________________________________________\n",
            "block_15_project_BN (BatchNorma (None, 4, 4, 160)    640         block_15_project[0][0]           \n",
            "__________________________________________________________________________________________________\n",
            "block_15_add (Add)              (None, 4, 4, 160)    0           block_14_add[0][0]               \n",
            "                                                                 block_15_project_BN[0][0]        \n",
            "__________________________________________________________________________________________________\n",
            "block_16_expand (Conv2D)        (None, 4, 4, 960)    153600      block_15_add[0][0]               \n",
            "__________________________________________________________________________________________________\n",
            "block_16_expand_BN (BatchNormal (None, 4, 4, 960)    3840        block_16_expand[0][0]            \n",
            "__________________________________________________________________________________________________\n",
            "block_16_expand_relu (ReLU)     (None, 4, 4, 960)    0           block_16_expand_BN[0][0]         \n",
            "__________________________________________________________________________________________________\n",
            "block_16_depthwise (DepthwiseCo (None, 4, 4, 960)    8640        block_16_expand_relu[0][0]       \n",
            "__________________________________________________________________________________________________\n",
            "block_16_depthwise_BN (BatchNor (None, 4, 4, 960)    3840        block_16_depthwise[0][0]         \n",
            "__________________________________________________________________________________________________\n",
            "block_16_depthwise_relu (ReLU)  (None, 4, 4, 960)    0           block_16_depthwise_BN[0][0]      \n",
            "__________________________________________________________________________________________________\n",
            "block_16_project (Conv2D)       (None, 4, 4, 320)    307200      block_16_depthwise_relu[0][0]    \n",
            "__________________________________________________________________________________________________\n",
            "block_16_project_BN (BatchNorma (None, 4, 4, 320)    1280        block_16_project[0][0]           \n",
            "__________________________________________________________________________________________________\n",
            "Conv_1 (Conv2D)                 (None, 4, 4, 1280)   409600      block_16_project_BN[0][0]        \n",
            "__________________________________________________________________________________________________\n",
            "Conv_1_bn (BatchNormalization)  (None, 4, 4, 1280)   5120        Conv_1[0][0]                     \n",
            "__________________________________________________________________________________________________\n",
            "out_relu (ReLU)                 (None, 4, 4, 1280)   0           Conv_1_bn[0][0]                  \n",
            "==================================================================================================\n",
            "Total params: 2,257,984\n",
            "Trainable params: 2,223,872\n",
            "Non-trainable params: 34,112\n",
            "__________________________________________________________________________________________________\n"
          ],
          "name": "stdout"
        }
      ]
    },
    {
      "cell_type": "code",
      "metadata": {
        "id": "wZyFj29bOgoh",
        "colab_type": "code",
        "colab": {
          "base_uri": "https://localhost:8080/",
          "height": 420
        },
        "outputId": "a97b1ca0-f74d-4f0f-8b23-2a15466ec1db"
      },
      "source": [
        "model = Sequential()\n",
        "model.add(base_model)\n",
        "model.add(layers.Flatten())\n",
        "model.add(layers.Dense(1028, activation = 'relu'))\n",
        "model.add(layers.Dropout(0.5))\n",
        "model.add(layers.Dense(512, activation = 'relu'))\n",
        "model.add(layers.Dense(256, activation = 'relu'))\n",
        "model.add(layers.Dropout(0.5))\n",
        "model.add(layers.Dense(3, activation = 'softmax'))\n",
        "model.layers[0].trainable = False\n",
        "model.summary()"
      ],
      "execution_count": null,
      "outputs": [
        {
          "output_type": "stream",
          "text": [
            "Model: \"sequential_4\"\n",
            "_________________________________________________________________\n",
            "Layer (type)                 Output Shape              Param #   \n",
            "=================================================================\n",
            "mobilenetv2_1.00_128 (Functi (None, 4, 4, 1280)        2257984   \n",
            "_________________________________________________________________\n",
            "flatten_4 (Flatten)          (None, 20480)             0         \n",
            "_________________________________________________________________\n",
            "dense_17 (Dense)             (None, 1028)              21054468  \n",
            "_________________________________________________________________\n",
            "dropout_8 (Dropout)          (None, 1028)              0         \n",
            "_________________________________________________________________\n",
            "dense_18 (Dense)             (None, 512)               526848    \n",
            "_________________________________________________________________\n",
            "dense_19 (Dense)             (None, 256)               131328    \n",
            "_________________________________________________________________\n",
            "dropout_9 (Dropout)          (None, 256)               0         \n",
            "_________________________________________________________________\n",
            "dense_20 (Dense)             (None, 3)                 771       \n",
            "=================================================================\n",
            "Total params: 23,971,399\n",
            "Trainable params: 21,713,415\n",
            "Non-trainable params: 2,257,984\n",
            "_________________________________________________________________\n"
          ],
          "name": "stdout"
        }
      ]
    },
    {
      "cell_type": "code",
      "metadata": {
        "id": "Kt1VjZSS23NQ",
        "colab_type": "code",
        "colab": {
          "base_uri": "https://localhost:8080/",
          "height": 420
        },
        "outputId": "c6babf61-4e5c-4a50-ae52-161131d3d32a"
      },
      "source": [
        "from tensorflow.keras import models\n",
        "model = models.load_model(\"/content/drive/My Drive/RESEARCH CENTER/DATASETS/BRAIN_TUMOR/dataset/save_model/temp_trial/049-val_acc:0.944.h5\")\n",
        "model.summary()"
      ],
      "execution_count": 21,
      "outputs": [
        {
          "output_type": "stream",
          "text": [
            "Model: \"sequential_4\"\n",
            "_________________________________________________________________\n",
            "Layer (type)                 Output Shape              Param #   \n",
            "=================================================================\n",
            "mobilenetv2_1.00_128 (Functi (None, 4, 4, 1280)        2257984   \n",
            "_________________________________________________________________\n",
            "flatten_4 (Flatten)          (None, 20480)             0         \n",
            "_________________________________________________________________\n",
            "dense_17 (Dense)             (None, 1028)              21054468  \n",
            "_________________________________________________________________\n",
            "dropout_8 (Dropout)          (None, 1028)              0         \n",
            "_________________________________________________________________\n",
            "dense_18 (Dense)             (None, 512)               526848    \n",
            "_________________________________________________________________\n",
            "dense_19 (Dense)             (None, 256)               131328    \n",
            "_________________________________________________________________\n",
            "dropout_9 (Dropout)          (None, 256)               0         \n",
            "_________________________________________________________________\n",
            "dense_20 (Dense)             (None, 3)                 771       \n",
            "=================================================================\n",
            "Total params: 23,971,399\n",
            "Trainable params: 21,713,415\n",
            "Non-trainable params: 2,257,984\n",
            "_________________________________________________________________\n"
          ],
          "name": "stdout"
        }
      ]
    },
    {
      "cell_type": "code",
      "metadata": {
        "id": "wvvhY1vEPtBk",
        "colab_type": "code",
        "colab": {}
      },
      "source": [
        "model.compile(loss = 'categorical_crossentropy',\n",
        "              optimizer = optimizers.Adamax(lr=1e-4),\n",
        "              metrics = ['acc'])"
      ],
      "execution_count": 22,
      "outputs": []
    },
    {
      "cell_type": "code",
      "metadata": {
        "colab_type": "code",
        "id": "YMzIEu9d3wL6",
        "colab": {
          "base_uri": "https://localhost:8080/",
          "height": 50
        },
        "outputId": "21b078e5-7438-43d6-8605-567765515ce7"
      },
      "source": [
        "model.evaluate(training_set)"
      ],
      "execution_count": 25,
      "outputs": [
        {
          "output_type": "stream",
          "text": [
            "192/192 [==============================] - 8911s 46s/step - loss: 0.0033 - acc: 0.9995\n"
          ],
          "name": "stdout"
        },
        {
          "output_type": "execute_result",
          "data": {
            "text/plain": [
              "[0.003313478548079729, 0.9995104670524597]"
            ]
          },
          "metadata": {
            "tags": []
          },
          "execution_count": 25
        }
      ]
    },
    {
      "cell_type": "code",
      "metadata": {
        "colab_type": "code",
        "id": "d1ReG_Ej3wMF",
        "colab": {
          "base_uri": "https://localhost:8080/",
          "height": 50
        },
        "outputId": "74e1f879-9887-4ada-e9a5-34f4276f5f57"
      },
      "source": [
        "model.evaluate(validation_set)"
      ],
      "execution_count": 24,
      "outputs": [
        {
          "output_type": "stream",
          "text": [
            "36/36 [==============================] - 1520s 42s/step - loss: 0.1929 - acc: 0.9451\n"
          ],
          "name": "stdout"
        },
        {
          "output_type": "execute_result",
          "data": {
            "text/plain": [
              "[0.19289983808994293, 0.945145845413208]"
            ]
          },
          "metadata": {
            "tags": []
          },
          "execution_count": 24
        }
      ]
    },
    {
      "cell_type": "code",
      "metadata": {
        "colab_type": "code",
        "id": "JpsG_T5-3wMM",
        "colab": {
          "base_uri": "https://localhost:8080/",
          "height": 50
        },
        "outputId": "c3f9a365-f3c2-4b8d-a63e-3e0467dc806a"
      },
      "source": [
        "model.evaluate(testing_set)"
      ],
      "execution_count": 23,
      "outputs": [
        {
          "output_type": "stream",
          "text": [
            "12/12 [==============================] - 471s 39s/step - loss: 0.1920 - acc: 0.9439\n"
          ],
          "name": "stdout"
        },
        {
          "output_type": "execute_result",
          "data": {
            "text/plain": [
              "[0.19199052453041077, 0.9439374208450317]"
            ]
          },
          "metadata": {
            "tags": []
          },
          "execution_count": 23
        }
      ]
    },
    {
      "cell_type": "code",
      "metadata": {
        "id": "q3RQ8Gc6P-sG",
        "colab_type": "code",
        "colab": {}
      },
      "source": [
        "filepath=\"/content/drive/My Drive/RESEARCH CENTER/DATASETS/BRAIN_TUMOR/dataset/save_model/temp_trial/{epoch:03d}-val_acc:{val_acc:.3f}.h5\"\n",
        "checkpoint = callbacks.ModelCheckpoint(\n",
        "                                       filepath,\n",
        "                                       monitor='val_acc',\n",
        "                                       verbose=1,\n",
        "                                       save_best_only=True,\n",
        "                                       mode='auto',\n",
        "                                      #  restore_best_weights=True,\n",
        "                                       )\n",
        "# earlystop = callbacks.EarlyStopping(monitor='val_loss',\n",
        "#                                     mode='auto',\n",
        "#                                     patience=4,\n",
        "#                                     restore_best_weights=True)"
      ],
      "execution_count": null,
      "outputs": []
    },
    {
      "cell_type": "code",
      "metadata": {
        "id": "651NxHfaSWGX",
        "colab_type": "code",
        "colab": {}
      },
      "source": [
        "train_step_size = training_set.n//training_set.batch_size\n",
        "val_step_size = validation_set.n//validation_set.batch_size"
      ],
      "execution_count": null,
      "outputs": []
    },
    {
      "cell_type": "code",
      "metadata": {
        "id": "Kr_iuWgHzvov",
        "colab_type": "code",
        "colab": {
          "base_uri": "https://localhost:8080/",
          "height": 1000
        },
        "outputId": "0af93fb6-b7a8-4188-f99c-9b6f95394872"
      },
      "source": [
        "history = model.fit(training_set, \n",
        "                    steps_per_epoch=train_step_size, \n",
        "                    epochs=50,\n",
        "                    validation_data=validation_set, \n",
        "                    validation_steps=val_step_size, \n",
        "                    callbacks=[checkpoint])"
      ],
      "execution_count": null,
      "outputs": [
        {
          "output_type": "stream",
          "text": [
            "Epoch 1/50\n",
            "191/191 [==============================] - ETA: 0s - loss: 0.9873 - acc: 0.5974\n",
            "Epoch 00001: val_acc improved from -inf to 0.71205, saving model to /content/drive/My Drive/RESEARCH CENTER/DATASETS/BRAIN_TUMOR/dataset/save_model/temp_trial/001-val_acc:0.712.h5\n",
            "191/191 [==============================] - 64s 336ms/step - loss: 0.9873 - acc: 0.5974 - val_loss: 0.6176 - val_acc: 0.7121\n",
            "Epoch 2/50\n",
            "191/191 [==============================] - ETA: 0s - loss: 0.6185 - acc: 0.7340\n",
            "Epoch 00002: val_acc improved from 0.71205 to 0.80759, saving model to /content/drive/My Drive/RESEARCH CENTER/DATASETS/BRAIN_TUMOR/dataset/save_model/temp_trial/002-val_acc:0.808.h5\n",
            "191/191 [==============================] - 64s 338ms/step - loss: 0.6185 - acc: 0.7340 - val_loss: 0.4775 - val_acc: 0.8076\n",
            "Epoch 3/50\n",
            "191/191 [==============================] - ETA: 0s - loss: 0.4974 - acc: 0.7927\n",
            "Epoch 00003: val_acc improved from 0.80759 to 0.81339, saving model to /content/drive/My Drive/RESEARCH CENTER/DATASETS/BRAIN_TUMOR/dataset/save_model/temp_trial/003-val_acc:0.813.h5\n",
            "191/191 [==============================] - 64s 337ms/step - loss: 0.4974 - acc: 0.7927 - val_loss: 0.4169 - val_acc: 0.8134\n",
            "Epoch 4/50\n",
            "191/191 [==============================] - ETA: 0s - loss: 0.4616 - acc: 0.8110\n",
            "Epoch 00004: val_acc improved from 0.81339 to 0.85000, saving model to /content/drive/My Drive/RESEARCH CENTER/DATASETS/BRAIN_TUMOR/dataset/save_model/temp_trial/004-val_acc:0.850.h5\n",
            "191/191 [==============================] - 65s 338ms/step - loss: 0.4616 - acc: 0.8110 - val_loss: 0.3522 - val_acc: 0.8500\n",
            "Epoch 5/50\n",
            "191/191 [==============================] - ETA: 0s - loss: 0.3927 - acc: 0.8353\n",
            "Epoch 00005: val_acc improved from 0.85000 to 0.86830, saving model to /content/drive/My Drive/RESEARCH CENTER/DATASETS/BRAIN_TUMOR/dataset/save_model/temp_trial/005-val_acc:0.868.h5\n",
            "191/191 [==============================] - 65s 340ms/step - loss: 0.3927 - acc: 0.8353 - val_loss: 0.3166 - val_acc: 0.8683\n",
            "Epoch 6/50\n",
            "191/191 [==============================] - ETA: 0s - loss: 0.3767 - acc: 0.8468\n",
            "Epoch 00006: val_acc improved from 0.86830 to 0.87768, saving model to /content/drive/My Drive/RESEARCH CENTER/DATASETS/BRAIN_TUMOR/dataset/save_model/temp_trial/006-val_acc:0.878.h5\n",
            "191/191 [==============================] - 66s 346ms/step - loss: 0.3767 - acc: 0.8468 - val_loss: 0.3124 - val_acc: 0.8777\n",
            "Epoch 7/50\n",
            "191/191 [==============================] - ETA: 0s - loss: 0.3378 - acc: 0.8615\n",
            "Epoch 00007: val_acc did not improve from 0.87768\n",
            "191/191 [==============================] - 62s 326ms/step - loss: 0.3378 - acc: 0.8615 - val_loss: 0.3220 - val_acc: 0.8554\n",
            "Epoch 8/50\n",
            "191/191 [==============================] - ETA: 0s - loss: 0.3431 - acc: 0.8581\n",
            "Epoch 00008: val_acc improved from 0.87768 to 0.88795, saving model to /content/drive/My Drive/RESEARCH CENTER/DATASETS/BRAIN_TUMOR/dataset/save_model/temp_trial/008-val_acc:0.888.h5\n",
            "191/191 [==============================] - 63s 331ms/step - loss: 0.3431 - acc: 0.8581 - val_loss: 0.2694 - val_acc: 0.8879\n",
            "Epoch 9/50\n",
            "191/191 [==============================] - ETA: 0s - loss: 0.3011 - acc: 0.8730\n",
            "Epoch 00009: val_acc did not improve from 0.88795\n",
            "191/191 [==============================] - 63s 329ms/step - loss: 0.3011 - acc: 0.8730 - val_loss: 0.2853 - val_acc: 0.8786\n",
            "Epoch 10/50\n",
            "191/191 [==============================] - ETA: 0s - loss: 0.2956 - acc: 0.8809\n",
            "Epoch 00010: val_acc improved from 0.88795 to 0.89955, saving model to /content/drive/My Drive/RESEARCH CENTER/DATASETS/BRAIN_TUMOR/dataset/save_model/temp_trial/010-val_acc:0.900.h5\n",
            "191/191 [==============================] - 63s 330ms/step - loss: 0.2956 - acc: 0.8809 - val_loss: 0.2485 - val_acc: 0.8996\n",
            "Epoch 11/50\n",
            "191/191 [==============================] - ETA: 0s - loss: 0.2681 - acc: 0.8930\n",
            "Epoch 00011: val_acc did not improve from 0.89955\n",
            "191/191 [==============================] - 63s 330ms/step - loss: 0.2681 - acc: 0.8930 - val_loss: 0.2747 - val_acc: 0.8786\n",
            "Epoch 12/50\n",
            "191/191 [==============================] - ETA: 0s - loss: 0.2509 - acc: 0.8954\n",
            "Epoch 00012: val_acc did not improve from 0.89955\n",
            "191/191 [==============================] - 62s 323ms/step - loss: 0.2509 - acc: 0.8954 - val_loss: 0.2587 - val_acc: 0.8938\n",
            "Epoch 13/50\n",
            "191/191 [==============================] - ETA: 0s - loss: 0.2295 - acc: 0.9066\n",
            "Epoch 00013: val_acc did not improve from 0.89955\n",
            "191/191 [==============================] - 62s 324ms/step - loss: 0.2295 - acc: 0.9066 - val_loss: 0.2755 - val_acc: 0.8763\n",
            "Epoch 14/50\n",
            "191/191 [==============================] - ETA: 0s - loss: 0.2280 - acc: 0.9088\n",
            "Epoch 00014: val_acc improved from 0.89955 to 0.90536, saving model to /content/drive/My Drive/RESEARCH CENTER/DATASETS/BRAIN_TUMOR/dataset/save_model/temp_trial/014-val_acc:0.905.h5\n",
            "191/191 [==============================] - 63s 330ms/step - loss: 0.2280 - acc: 0.9088 - val_loss: 0.2317 - val_acc: 0.9054\n",
            "Epoch 15/50\n",
            "191/191 [==============================] - ETA: 0s - loss: 0.2346 - acc: 0.9044\n",
            "Epoch 00015: val_acc did not improve from 0.90536\n",
            "191/191 [==============================] - 62s 327ms/step - loss: 0.2346 - acc: 0.9044 - val_loss: 0.2282 - val_acc: 0.9022\n",
            "Epoch 16/50\n",
            "191/191 [==============================] - ETA: 0s - loss: 0.2104 - acc: 0.9127\n",
            "Epoch 00016: val_acc did not improve from 0.90536\n",
            "191/191 [==============================] - 63s 328ms/step - loss: 0.2104 - acc: 0.9127 - val_loss: 0.2415 - val_acc: 0.8987\n",
            "Epoch 17/50\n",
            "191/191 [==============================] - ETA: 0s - loss: 0.2103 - acc: 0.9133\n",
            "Epoch 00017: val_acc improved from 0.90536 to 0.90804, saving model to /content/drive/My Drive/RESEARCH CENTER/DATASETS/BRAIN_TUMOR/dataset/save_model/temp_trial/017-val_acc:0.908.h5\n",
            "191/191 [==============================] - 63s 329ms/step - loss: 0.2103 - acc: 0.9133 - val_loss: 0.2174 - val_acc: 0.9080\n",
            "Epoch 18/50\n",
            "191/191 [==============================] - ETA: 0s - loss: 0.1850 - acc: 0.9262\n",
            "Epoch 00018: val_acc improved from 0.90804 to 0.91339, saving model to /content/drive/My Drive/RESEARCH CENTER/DATASETS/BRAIN_TUMOR/dataset/save_model/temp_trial/018-val_acc:0.913.h5\n",
            "191/191 [==============================] - 64s 335ms/step - loss: 0.1850 - acc: 0.9262 - val_loss: 0.2070 - val_acc: 0.9134\n",
            "Epoch 19/50\n",
            "191/191 [==============================] - ETA: 0s - loss: 0.1839 - acc: 0.9234\n",
            "Epoch 00019: val_acc did not improve from 0.91339\n",
            "191/191 [==============================] - 63s 328ms/step - loss: 0.1839 - acc: 0.9234 - val_loss: 0.2208 - val_acc: 0.9085\n",
            "Epoch 20/50\n",
            "191/191 [==============================] - ETA: 0s - loss: 0.1714 - acc: 0.9298\n",
            "Epoch 00020: val_acc improved from 0.91339 to 0.92545, saving model to /content/drive/My Drive/RESEARCH CENTER/DATASETS/BRAIN_TUMOR/dataset/save_model/temp_trial/020-val_acc:0.925.h5\n",
            "191/191 [==============================] - 63s 331ms/step - loss: 0.1714 - acc: 0.9298 - val_loss: 0.1902 - val_acc: 0.9254\n",
            "Epoch 21/50\n",
            "191/191 [==============================] - ETA: 0s - loss: 0.1580 - acc: 0.9377\n",
            "Epoch 00021: val_acc did not improve from 0.92545\n",
            "191/191 [==============================] - 63s 332ms/step - loss: 0.1580 - acc: 0.9377 - val_loss: 0.1836 - val_acc: 0.9254\n",
            "Epoch 22/50\n",
            "191/191 [==============================] - ETA: 0s - loss: 0.1402 - acc: 0.9446\n",
            "Epoch 00022: val_acc did not improve from 0.92545\n",
            "191/191 [==============================] - 62s 324ms/step - loss: 0.1402 - acc: 0.9446 - val_loss: 0.2624 - val_acc: 0.8973\n",
            "Epoch 23/50\n",
            "191/191 [==============================] - ETA: 0s - loss: 0.1400 - acc: 0.9438\n",
            "Epoch 00023: val_acc did not improve from 0.92545\n",
            "191/191 [==============================] - 62s 324ms/step - loss: 0.1400 - acc: 0.9438 - val_loss: 0.1731 - val_acc: 0.9254\n",
            "Epoch 24/50\n",
            "191/191 [==============================] - ETA: 0s - loss: 0.1255 - acc: 0.9496\n",
            "Epoch 00024: val_acc did not improve from 0.92545\n",
            "191/191 [==============================] - 62s 325ms/step - loss: 0.1255 - acc: 0.9496 - val_loss: 0.2033 - val_acc: 0.9170\n",
            "Epoch 25/50\n",
            "191/191 [==============================] - ETA: 0s - loss: 0.1261 - acc: 0.9505\n",
            "Epoch 00025: val_acc did not improve from 0.92545\n",
            "191/191 [==============================] - 62s 324ms/step - loss: 0.1261 - acc: 0.9505 - val_loss: 0.2080 - val_acc: 0.9183\n",
            "Epoch 26/50\n",
            "191/191 [==============================] - ETA: 0s - loss: 0.1240 - acc: 0.9525\n",
            "Epoch 00026: val_acc improved from 0.92545 to 0.92902, saving model to /content/drive/My Drive/RESEARCH CENTER/DATASETS/BRAIN_TUMOR/dataset/save_model/temp_trial/026-val_acc:0.929.h5\n",
            "191/191 [==============================] - 64s 336ms/step - loss: 0.1240 - acc: 0.9525 - val_loss: 0.1828 - val_acc: 0.9290\n",
            "Epoch 27/50\n",
            "191/191 [==============================] - ETA: 0s - loss: 0.1092 - acc: 0.9571\n",
            "Epoch 00027: val_acc did not improve from 0.92902\n",
            "191/191 [==============================] - 62s 325ms/step - loss: 0.1092 - acc: 0.9571 - val_loss: 0.1900 - val_acc: 0.9277\n",
            "Epoch 28/50\n",
            "191/191 [==============================] - ETA: 0s - loss: 0.0954 - acc: 0.9619\n",
            "Epoch 00028: val_acc did not improve from 0.92902\n",
            "191/191 [==============================] - 62s 322ms/step - loss: 0.0954 - acc: 0.9619 - val_loss: 0.1907 - val_acc: 0.9263\n",
            "Epoch 29/50\n",
            "191/191 [==============================] - ETA: 0s - loss: 0.0967 - acc: 0.9645\n",
            "Epoch 00029: val_acc did not improve from 0.92902\n",
            "191/191 [==============================] - 62s 324ms/step - loss: 0.0967 - acc: 0.9645 - val_loss: 0.1890 - val_acc: 0.9254\n",
            "Epoch 30/50\n",
            "191/191 [==============================] - ETA: 0s - loss: 0.0855 - acc: 0.9678\n",
            "Epoch 00030: val_acc improved from 0.92902 to 0.93036, saving model to /content/drive/My Drive/RESEARCH CENTER/DATASETS/BRAIN_TUMOR/dataset/save_model/temp_trial/030-val_acc:0.930.h5\n",
            "191/191 [==============================] - 63s 327ms/step - loss: 0.0855 - acc: 0.9678 - val_loss: 0.1746 - val_acc: 0.9304\n",
            "Epoch 31/50\n",
            "191/191 [==============================] - ETA: 0s - loss: 0.0763 - acc: 0.9724\n",
            "Epoch 00031: val_acc improved from 0.93036 to 0.93616, saving model to /content/drive/My Drive/RESEARCH CENTER/DATASETS/BRAIN_TUMOR/dataset/save_model/temp_trial/031-val_acc:0.936.h5\n",
            "191/191 [==============================] - 65s 338ms/step - loss: 0.0763 - acc: 0.9724 - val_loss: 0.1697 - val_acc: 0.9362\n",
            "Epoch 32/50\n",
            "191/191 [==============================] - ETA: 0s - loss: 0.0830 - acc: 0.9674\n",
            "Epoch 00032: val_acc did not improve from 0.93616\n",
            "191/191 [==============================] - 63s 328ms/step - loss: 0.0830 - acc: 0.9674 - val_loss: 0.1806 - val_acc: 0.9304\n",
            "Epoch 33/50\n",
            "191/191 [==============================] - ETA: 0s - loss: 0.0723 - acc: 0.9720\n",
            "Epoch 00033: val_acc did not improve from 0.93616\n",
            "191/191 [==============================] - 62s 325ms/step - loss: 0.0723 - acc: 0.9720 - val_loss: 0.1874 - val_acc: 0.9263\n",
            "Epoch 34/50\n",
            "191/191 [==============================] - ETA: 0s - loss: 0.0768 - acc: 0.9715\n",
            "Epoch 00034: val_acc did not improve from 0.93616\n",
            "191/191 [==============================] - 62s 323ms/step - loss: 0.0768 - acc: 0.9715 - val_loss: 0.1818 - val_acc: 0.9308\n",
            "Epoch 35/50\n",
            "191/191 [==============================] - ETA: 0s - loss: 0.0597 - acc: 0.9788\n",
            "Epoch 00035: val_acc did not improve from 0.93616\n",
            "191/191 [==============================] - 62s 326ms/step - loss: 0.0597 - acc: 0.9788 - val_loss: 0.1712 - val_acc: 0.9362\n",
            "Epoch 36/50\n",
            "191/191 [==============================] - ETA: 0s - loss: 0.0547 - acc: 0.9816\n",
            "Epoch 00036: val_acc did not improve from 0.93616\n",
            "191/191 [==============================] - 63s 327ms/step - loss: 0.0547 - acc: 0.9816 - val_loss: 0.1903 - val_acc: 0.9308\n",
            "Epoch 37/50\n",
            "191/191 [==============================] - ETA: 0s - loss: 0.0478 - acc: 0.9830\n",
            "Epoch 00037: val_acc did not improve from 0.93616\n",
            "191/191 [==============================] - 62s 324ms/step - loss: 0.0478 - acc: 0.9830 - val_loss: 0.1804 - val_acc: 0.9339\n",
            "Epoch 38/50\n",
            "191/191 [==============================] - ETA: 0s - loss: 0.0472 - acc: 0.9837\n",
            "Epoch 00038: val_acc did not improve from 0.93616\n",
            "191/191 [==============================] - 61s 320ms/step - loss: 0.0472 - acc: 0.9837 - val_loss: 0.1948 - val_acc: 0.9344\n",
            "Epoch 39/50\n",
            "191/191 [==============================] - ETA: 0s - loss: 0.0397 - acc: 0.9861\n",
            "Epoch 00039: val_acc did not improve from 0.93616\n",
            "191/191 [==============================] - 62s 323ms/step - loss: 0.0397 - acc: 0.9861 - val_loss: 0.2209 - val_acc: 0.9326\n",
            "Epoch 40/50\n",
            "191/191 [==============================] - ETA: 0s - loss: 0.0373 - acc: 0.9875\n",
            "Epoch 00040: val_acc did not improve from 0.93616\n",
            "191/191 [==============================] - 62s 323ms/step - loss: 0.0373 - acc: 0.9875 - val_loss: 0.2071 - val_acc: 0.9299\n",
            "Epoch 41/50\n",
            "191/191 [==============================] - ETA: 0s - loss: 0.0396 - acc: 0.9860\n",
            "Epoch 00041: val_acc improved from 0.93616 to 0.94241, saving model to /content/drive/My Drive/RESEARCH CENTER/DATASETS/BRAIN_TUMOR/dataset/save_model/temp_trial/041-val_acc:0.942.h5\n",
            "191/191 [==============================] - 64s 334ms/step - loss: 0.0396 - acc: 0.9860 - val_loss: 0.1924 - val_acc: 0.9424\n",
            "Epoch 42/50\n",
            "191/191 [==============================] - ETA: 0s - loss: 0.0335 - acc: 0.9886\n",
            "Epoch 00042: val_acc did not improve from 0.94241\n",
            "191/191 [==============================] - 62s 327ms/step - loss: 0.0335 - acc: 0.9886 - val_loss: 0.2288 - val_acc: 0.9321\n",
            "Epoch 43/50\n",
            "191/191 [==============================] - ETA: 0s - loss: 0.0331 - acc: 0.9892\n",
            "Epoch 00043: val_acc did not improve from 0.94241\n",
            "191/191 [==============================] - 61s 322ms/step - loss: 0.0331 - acc: 0.9892 - val_loss: 0.1818 - val_acc: 0.9388\n",
            "Epoch 44/50\n",
            "191/191 [==============================] - ETA: 0s - loss: 0.0308 - acc: 0.9887\n",
            "Epoch 00044: val_acc did not improve from 0.94241\n",
            "191/191 [==============================] - 62s 324ms/step - loss: 0.0308 - acc: 0.9887 - val_loss: 0.1973 - val_acc: 0.9362\n",
            "Epoch 45/50\n",
            "191/191 [==============================] - ETA: 0s - loss: 0.0302 - acc: 0.9897\n",
            "Epoch 00045: val_acc did not improve from 0.94241\n",
            "191/191 [==============================] - 62s 326ms/step - loss: 0.0302 - acc: 0.9897 - val_loss: 0.2203 - val_acc: 0.9362\n",
            "Epoch 46/50\n",
            "191/191 [==============================] - ETA: 0s - loss: 0.0217 - acc: 0.9923\n",
            "Epoch 00046: val_acc did not improve from 0.94241\n",
            "191/191 [==============================] - 62s 325ms/step - loss: 0.0217 - acc: 0.9923 - val_loss: 0.1978 - val_acc: 0.9397\n",
            "Epoch 47/50\n",
            "191/191 [==============================] - ETA: 0s - loss: 0.0186 - acc: 0.9935\n",
            "Epoch 00047: val_acc did not improve from 0.94241\n",
            "191/191 [==============================] - 61s 321ms/step - loss: 0.0186 - acc: 0.9935 - val_loss: 0.2171 - val_acc: 0.9371\n",
            "Epoch 48/50\n",
            "191/191 [==============================] - ETA: 0s - loss: 0.0205 - acc: 0.9934\n",
            "Epoch 00048: val_acc did not improve from 0.94241\n",
            "191/191 [==============================] - 62s 323ms/step - loss: 0.0205 - acc: 0.9934 - val_loss: 0.2038 - val_acc: 0.9397\n",
            "Epoch 49/50\n",
            "191/191 [==============================] - ETA: 0s - loss: 0.0162 - acc: 0.9948\n",
            "Epoch 00049: val_acc improved from 0.94241 to 0.94375, saving model to /content/drive/My Drive/RESEARCH CENTER/DATASETS/BRAIN_TUMOR/dataset/save_model/temp_trial/049-val_acc:0.944.h5\n",
            "191/191 [==============================] - 63s 329ms/step - loss: 0.0162 - acc: 0.9948 - val_loss: 0.1977 - val_acc: 0.9438\n",
            "Epoch 50/50\n",
            "191/191 [==============================] - ETA: 0s - loss: 0.0139 - acc: 0.9964\n",
            "Epoch 00050: val_acc did not improve from 0.94375\n",
            "191/191 [==============================] - 63s 328ms/step - loss: 0.0139 - acc: 0.9964 - val_loss: 0.2254 - val_acc: 0.9397\n"
          ],
          "name": "stdout"
        }
      ]
    },
    {
      "cell_type": "code",
      "metadata": {
        "id": "npSSKkfc0klR",
        "colab_type": "code",
        "colab": {
          "base_uri": "https://localhost:8080/",
          "height": 50
        },
        "outputId": "f99dfe67-88f2-45b5-ea5c-6ce6c389157d"
      },
      "source": [
        "model.evaluate(training_set)"
      ],
      "execution_count": null,
      "outputs": [
        {
          "output_type": "stream",
          "text": [
            "192/192 [==============================] - 52s 271ms/step - loss: 0.0088 - acc: 0.9967\n"
          ],
          "name": "stdout"
        },
        {
          "output_type": "execute_result",
          "data": {
            "text/plain": [
              "[0.008758462965488434, 0.9966546893119812]"
            ]
          },
          "metadata": {
            "tags": []
          },
          "execution_count": 57
        }
      ]
    },
    {
      "cell_type": "code",
      "metadata": {
        "id": "fcRfbj-EShgt",
        "colab_type": "code",
        "colab": {
          "base_uri": "https://localhost:8080/",
          "height": 50
        },
        "outputId": "dc4ef1de-b777-4c93-be92-83ff8042757e"
      },
      "source": [
        "model.evaluate(validation_set)"
      ],
      "execution_count": null,
      "outputs": [
        {
          "output_type": "stream",
          "text": [
            "36/36 [==============================] - 9s 252ms/step - loss: 0.2198 - acc: 0.9412\n"
          ],
          "name": "stdout"
        },
        {
          "output_type": "execute_result",
          "data": {
            "text/plain": [
              "[0.21982474625110626, 0.9412276744842529]"
            ]
          },
          "metadata": {
            "tags": []
          },
          "execution_count": 58
        }
      ]
    },
    {
      "cell_type": "code",
      "metadata": {
        "id": "RWEmX68S0ot4",
        "colab_type": "code",
        "colab": {
          "base_uri": "https://localhost:8080/",
          "height": 50
        },
        "outputId": "09badd84-1a1d-4d7b-df77-bef6b93287d7"
      },
      "source": [
        "model.evaluate(testing_set)"
      ],
      "execution_count": null,
      "outputs": [
        {
          "output_type": "stream",
          "text": [
            "12/12 [==============================] - 315s 26s/step - loss: 0.2559 - acc: 0.9400\n"
          ],
          "name": "stdout"
        },
        {
          "output_type": "execute_result",
          "data": {
            "text/plain": [
              "[0.2559448480606079, 0.9400261044502258]"
            ]
          },
          "metadata": {
            "tags": []
          },
          "execution_count": 59
        }
      ]
    },
    {
      "cell_type": "code",
      "metadata": {
        "id": "6XFL8BJESeeW",
        "colab_type": "code",
        "colab": {
          "base_uri": "https://localhost:8080/",
          "height": 229
        },
        "outputId": "7f16186d-77b4-499b-c536-08d1ec95b45f"
      },
      "source": [
        "# plot model performance\n",
        "acc = history.history['acc']\n",
        "val_acc = history.history['val_acc']\n",
        "loss = history.history['loss']\n",
        "val_loss = history.history['val_loss']\n",
        "epochs_range = range(1, len(history.epoch) + 1)\n",
        "\n",
        "plt.figure(figsize=(15,5))\n",
        "\n",
        "plt.subplot(1, 2, 1)\n",
        "plt.plot(epochs_range, acc, label='Train Set')\n",
        "plt.plot(epochs_range, val_acc, label='Val Set')\n",
        "plt.legend(loc=\"best\")\n",
        "plt.xlabel('Epochs')\n",
        "plt.ylabel('Accuracy')\n",
        "plt.title('Model Accuracy')\n",
        "\n",
        "plt.subplot(1, 2, 2)\n",
        "plt.plot(epochs_range, loss, label='Train Set')\n",
        "plt.plot(epochs_range, val_loss, label='Val Set')\n",
        "plt.legend(loc=\"best\")\n",
        "plt.xlabel('Epochs')\n",
        "plt.ylabel('Loss')\n",
        "plt.title('Model Loss')\n",
        "\n",
        "plt.tight_layout()\n",
        "plt.show()"
      ],
      "execution_count": 6,
      "outputs": [
        {
          "output_type": "error",
          "ename": "NameError",
          "evalue": "ignored",
          "traceback": [
            "\u001b[0;31m---------------------------------------------------------------------------\u001b[0m",
            "\u001b[0;31mNameError\u001b[0m                                 Traceback (most recent call last)",
            "\u001b[0;32m<ipython-input-6-b4ce7ba5a027>\u001b[0m in \u001b[0;36m<module>\u001b[0;34m()\u001b[0m\n\u001b[1;32m      1\u001b[0m \u001b[0;31m# plot model performance\u001b[0m\u001b[0;34m\u001b[0m\u001b[0;34m\u001b[0m\u001b[0;34m\u001b[0m\u001b[0m\n\u001b[0;32m----> 2\u001b[0;31m \u001b[0macc\u001b[0m \u001b[0;34m=\u001b[0m \u001b[0mhistory\u001b[0m\u001b[0;34m.\u001b[0m\u001b[0mhistory\u001b[0m\u001b[0;34m[\u001b[0m\u001b[0;34m'acc'\u001b[0m\u001b[0;34m]\u001b[0m\u001b[0;34m\u001b[0m\u001b[0;34m\u001b[0m\u001b[0m\n\u001b[0m\u001b[1;32m      3\u001b[0m \u001b[0mval_acc\u001b[0m \u001b[0;34m=\u001b[0m \u001b[0mhistory\u001b[0m\u001b[0;34m.\u001b[0m\u001b[0mhistory\u001b[0m\u001b[0;34m[\u001b[0m\u001b[0;34m'val_acc'\u001b[0m\u001b[0;34m]\u001b[0m\u001b[0;34m\u001b[0m\u001b[0;34m\u001b[0m\u001b[0m\n\u001b[1;32m      4\u001b[0m \u001b[0mloss\u001b[0m \u001b[0;34m=\u001b[0m \u001b[0mhistory\u001b[0m\u001b[0;34m.\u001b[0m\u001b[0mhistory\u001b[0m\u001b[0;34m[\u001b[0m\u001b[0;34m'loss'\u001b[0m\u001b[0;34m]\u001b[0m\u001b[0;34m\u001b[0m\u001b[0;34m\u001b[0m\u001b[0m\n\u001b[1;32m      5\u001b[0m \u001b[0mval_loss\u001b[0m \u001b[0;34m=\u001b[0m \u001b[0mhistory\u001b[0m\u001b[0;34m.\u001b[0m\u001b[0mhistory\u001b[0m\u001b[0;34m[\u001b[0m\u001b[0;34m'val_loss'\u001b[0m\u001b[0;34m]\u001b[0m\u001b[0;34m\u001b[0m\u001b[0;34m\u001b[0m\u001b[0m\n",
            "\u001b[0;31mNameError\u001b[0m: name 'history' is not defined"
          ]
        }
      ]
    },
    {
      "cell_type": "code",
      "metadata": {
        "id": "7NZhnbKCQmGD",
        "colab_type": "code",
        "colab": {
          "base_uri": "https://localhost:8080/",
          "height": 34
        },
        "outputId": "d156540e-22d7-45c3-abe3-6926105d55dd"
      },
      "source": [
        "ls"
      ],
      "execution_count": 7,
      "outputs": [
        {
          "output_type": "stream",
          "text": [
            "\u001b[0m\u001b[01;34mdrive\u001b[0m/  \u001b[01;34msample_data\u001b[0m/\n"
          ],
          "name": "stdout"
        }
      ]
    },
    {
      "cell_type": "code",
      "metadata": {
        "id": "3BLN2hbxTqE9",
        "colab_type": "code",
        "colab": {
          "base_uri": "https://localhost:8080/",
          "height": 162
        },
        "outputId": "db3a64e4-c524-4b5d-de63-5f22ce7cb2b6"
      },
      "source": [
        "model.save('save_model/P/trial_v7_model.h5') "
      ],
      "execution_count": null,
      "outputs": [
        {
          "output_type": "error",
          "ename": "NameError",
          "evalue": "ignored",
          "traceback": [
            "\u001b[0;31m---------------------------------------------------------------------------\u001b[0m",
            "\u001b[0;31mNameError\u001b[0m                                 Traceback (most recent call last)",
            "\u001b[0;32m<ipython-input-5-ae5232ec0b9a>\u001b[0m in \u001b[0;36m<module>\u001b[0;34m()\u001b[0m\n\u001b[0;32m----> 1\u001b[0;31m \u001b[0mmodel\u001b[0m\u001b[0;34m.\u001b[0m\u001b[0msave\u001b[0m\u001b[0;34m(\u001b[0m\u001b[0;34m'save_model/P/trial_v7_model.h5'\u001b[0m\u001b[0;34m)\u001b[0m\u001b[0;34m\u001b[0m\u001b[0;34m\u001b[0m\u001b[0m\n\u001b[0m",
            "\u001b[0;31mNameError\u001b[0m: name 'model' is not defined"
          ]
        }
      ]
    },
    {
      "cell_type": "code",
      "metadata": {
        "id": "bLiPVLeZUM7f",
        "colab_type": "code",
        "colab": {}
      },
      "source": [
        "model.save_weights(\"save_model/P/trial_v7_weights.h5\")"
      ],
      "execution_count": null,
      "outputs": []
    },
    {
      "cell_type": "code",
      "metadata": {
        "id": "Yte5smfkqsxI",
        "colab_type": "code",
        "colab": {}
      },
      "source": [
        "ls save_model/P"
      ],
      "execution_count": null,
      "outputs": []
    },
    {
      "cell_type": "code",
      "metadata": {
        "id": "_sorl_deQt8A",
        "colab_type": "code",
        "colab": {}
      },
      "source": [
        ""
      ],
      "execution_count": null,
      "outputs": []
    }
  ]
}